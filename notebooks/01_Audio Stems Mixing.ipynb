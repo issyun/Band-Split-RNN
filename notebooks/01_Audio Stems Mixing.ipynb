{
 "cells": [
  {
   "attachments": {},
   "cell_type": "markdown",
   "id": "6efdca44",
   "metadata": {},
   "source": [
    "# Audio Stems Mixing\n",
    "This notebook takes audio stems and combines them into a mixure"
   ]
  },
  {
   "cell_type": "code",
   "execution_count": 1,
   "id": "04b4d091",
   "metadata": {},
   "outputs": [],
   "source": [
    "# Imports\n",
    "import os\n",
    "from tqdm import tqdm\n",
    "import torchaudio"
   ]
  },
  {
   "cell_type": "code",
   "execution_count": 2,
   "id": "2891ceb6",
   "metadata": {},
   "outputs": [],
   "source": [
    "# Define paths to load & save directories\n",
    "db_folder = 'A_Label_Noise'\n",
    "path = f'/home/crlandsc/external/I/MDX-23/{db_folder}/'\n",
    "save_dir = f'/home/crlandsc/external/I/MDX-23/{db_folder}_norm/'"
   ]
  },
  {
   "attachments": {},
   "cell_type": "markdown",
   "id": "ea807d0e",
   "metadata": {},
   "source": [
    "### Functions"
   ]
  },
  {
   "cell_type": "code",
   "execution_count": 3,
   "id": "eab16abd",
   "metadata": {},
   "outputs": [],
   "source": [
    "def check_dir(save_dir):\n",
    "    \"\"\"Check if a directory exists. If not, create one.\"\"\"\n",
    "    if os.path.exists(save_dir) is False:\n",
    "        os.makedirs(save_dir)"
   ]
  },
  {
   "cell_type": "code",
   "execution_count": 4,
   "id": "8f68b2fa",
   "metadata": {},
   "outputs": [],
   "source": [
    "def audio_to_wav(path, in_format='mp3'):\n",
    "    \"\"\"Convert audio files to wav using Torchaudio. Save to wav folder in path directory.\n",
    "    args:\n",
    "        - path (str): path to folder of audio files\n",
    "        - in_format (str): the format of the audio to be converted (default='mp3')\n",
    "    \"\"\"\n",
    "    # convert mp3 or other audio format -> wav\n",
    "    print(\"Converting audio format to .wav\")\n",
    "\n",
    "    # Read in songs\n",
    "    songs = os.listdir(path)\n",
    "\n",
    "    for song in tqdm(songs):\n",
    "        name = song.rsplit('.', 1)[0]\n",
    "        mp3_path = os.path.join(path, song)\n",
    "        wav_path = os.path.join(path, 'wav', name+'.wav')\n",
    "\n",
    "        if os.path.exists(wav_path) is False:\n",
    "            # os.system('ffmpeg -i {} -vn -acodec pcm_s16le -ac l -ar 44100 -f .wav {}') # run command line\n",
    "            audio, sr = torchaudio.load(mp3_path)\n",
    "            torchaudio.save(wav_path, audio, sr)"
   ]
  },
  {
   "cell_type": "code",
   "execution_count": 5,
   "id": "e384e8c6",
   "metadata": {},
   "outputs": [],
   "source": [
    "def load_audio(path, track):\n",
    "    vocals, sr_v = torchaudio.load(os.path.join(path, track, 'vocals.wav')) # assign vocals track path\n",
    "    bass, sr_b = torchaudio.load(os.path.join(path, track, 'bass.wav')) # assign bass track path\n",
    "    drums, sr_d = torchaudio.load(os.path.join(path, track, 'drums.wav')) # assign drums track path\n",
    "    other, sr_o = torchaudio.load(os.path.join(path, track, 'other.wav')) # assign other track path\n",
    "    sr = sr_v # assign common sr\n",
    "    \n",
    "    # Confirm that all sample rates and lengths match\n",
    "    if sr_v == sr_b == sr_d == sr_o and vocals.shape[1] == bass.shape[1] == drums.shape[1] == other.shape[1]:\n",
    "        return True, vocals, bass, drums, other, sr\n",
    "    else:\n",
    "        return False, vocals, bass, drums, other, sr "
   ]
  },
  {
   "cell_type": "code",
   "execution_count": 6,
   "id": "190fa065",
   "metadata": {},
   "outputs": [],
   "source": [
    "def normalize_audio(vocals, bass, drums, other, mixture):\n",
    "    \"\"\"Normalizes all tracks to the \"mixture\" track.\n",
    "    \"\"\"\n",
    "    # Define normalization constant\n",
    "    norm = mixture.max()\n",
    "    \n",
    "    # Normalize all stems\n",
    "    vocals = vocals / norm\n",
    "    bass = bass / norm\n",
    "    drums = drums / norm\n",
    "    other = other / norm\n",
    "    mixture = mixture / norm\n",
    "\n",
    "    return vocals, bass, drums, other, mixture"
   ]
  },
  {
   "attachments": {},
   "cell_type": "markdown",
   "id": "6cdd388b",
   "metadata": {},
   "source": [
    "### Mix Audio"
   ]
  },
  {
   "cell_type": "code",
   "execution_count": 7,
   "id": "7872c872",
   "metadata": {},
   "outputs": [],
   "source": [
    "# Load folder names of tracks (containing bass, drums, voals, and other)\n",
    "track_folder = sorted(os.listdir(path))"
   ]
  },
  {
   "cell_type": "code",
   "execution_count": 8,
   "id": "88c20f1c",
   "metadata": {},
   "outputs": [
    {
     "name": "stdout",
     "output_type": "stream",
     "text": [
      "Mixing audio...\n"
     ]
    },
    {
     "name": "stderr",
     "output_type": "stream",
     "text": [
      "100%|██████████████████████████████████████████████████████████████████████████████▌| 203/204 [1:08:07<00:20, 20.13s/it]\n"
     ]
    },
    {
     "ename": "RuntimeError",
     "evalue": "Failed to open the input \"/home/crlandsc/external/I/MDX-23/A_Label_Noise/metadata/vocals.wav\" (No such file or directory).",
     "output_type": "error",
     "traceback": [
      "\u001b[0;31m---------------------------------------------------------------------------\u001b[0m",
      "\u001b[0;31mRuntimeError\u001b[0m                              Traceback (most recent call last)",
      "Cell \u001b[0;32mIn[8], line 12\u001b[0m\n\u001b[1;32m      8\u001b[0m \u001b[38;5;28mprint\u001b[39m(\u001b[38;5;124m'\u001b[39m\u001b[38;5;124mMixing audio...\u001b[39m\u001b[38;5;124m'\u001b[39m)\n\u001b[1;32m      9\u001b[0m \u001b[38;5;28;01mfor\u001b[39;00m track \u001b[38;5;129;01min\u001b[39;00m tqdm(track_folder):\n\u001b[1;32m     10\u001b[0m     \n\u001b[1;32m     11\u001b[0m     \u001b[38;5;66;03m# Load audio files\u001b[39;00m\n\u001b[0;32m---> 12\u001b[0m     compatible, vocals, bass, drums, other, sr \u001b[38;5;241m=\u001b[39m \u001b[43mload_audio\u001b[49m\u001b[43m(\u001b[49m\u001b[43mpath\u001b[49m\u001b[43m,\u001b[49m\u001b[43m \u001b[49m\u001b[43mtrack\u001b[49m\u001b[43m)\u001b[49m\n\u001b[1;32m     14\u001b[0m     \u001b[38;5;66;03m# Confirm that all sample rates and lengths match\u001b[39;00m\n\u001b[1;32m     15\u001b[0m     \u001b[38;5;66;03m# If not compatible, don't mix\u001b[39;00m\n\u001b[1;32m     16\u001b[0m     \u001b[38;5;28;01mif\u001b[39;00m compatible:\n\u001b[1;32m     17\u001b[0m         \n\u001b[1;32m     18\u001b[0m         \u001b[38;5;66;03m# Combine all stems into \"mixture\" audio track\u001b[39;00m\n",
      "Cell \u001b[0;32mIn[5], line 2\u001b[0m, in \u001b[0;36mload_audio\u001b[0;34m(path, track)\u001b[0m\n\u001b[1;32m      1\u001b[0m \u001b[38;5;28;01mdef\u001b[39;00m \u001b[38;5;21mload_audio\u001b[39m(path, track):\n\u001b[0;32m----> 2\u001b[0m     vocals, sr_v \u001b[38;5;241m=\u001b[39m \u001b[43mtorchaudio\u001b[49m\u001b[38;5;241;43m.\u001b[39;49m\u001b[43mload\u001b[49m\u001b[43m(\u001b[49m\u001b[43mos\u001b[49m\u001b[38;5;241;43m.\u001b[39;49m\u001b[43mpath\u001b[49m\u001b[38;5;241;43m.\u001b[39;49m\u001b[43mjoin\u001b[49m\u001b[43m(\u001b[49m\u001b[43mpath\u001b[49m\u001b[43m,\u001b[49m\u001b[43m \u001b[49m\u001b[43mtrack\u001b[49m\u001b[43m,\u001b[49m\u001b[43m \u001b[49m\u001b[38;5;124;43m'\u001b[39;49m\u001b[38;5;124;43mvocals.wav\u001b[39;49m\u001b[38;5;124;43m'\u001b[39;49m\u001b[43m)\u001b[49m\u001b[43m)\u001b[49m \u001b[38;5;66;03m# assign vocals track path\u001b[39;00m\n\u001b[1;32m      3\u001b[0m     bass, sr_b \u001b[38;5;241m=\u001b[39m torchaudio\u001b[38;5;241m.\u001b[39mload(os\u001b[38;5;241m.\u001b[39mpath\u001b[38;5;241m.\u001b[39mjoin(path, track, \u001b[38;5;124m'\u001b[39m\u001b[38;5;124mbass.wav\u001b[39m\u001b[38;5;124m'\u001b[39m)) \u001b[38;5;66;03m# assign bass track path\u001b[39;00m\n\u001b[1;32m      4\u001b[0m     drums, sr_d \u001b[38;5;241m=\u001b[39m torchaudio\u001b[38;5;241m.\u001b[39mload(os\u001b[38;5;241m.\u001b[39mpath\u001b[38;5;241m.\u001b[39mjoin(path, track, \u001b[38;5;124m'\u001b[39m\u001b[38;5;124mdrums.wav\u001b[39m\u001b[38;5;124m'\u001b[39m)) \u001b[38;5;66;03m# assign drums track path\u001b[39;00m\n",
      "File \u001b[0;32m~/anaconda3/envs/bsrnn/lib/python3.10/site-packages/torchaudio/backend/sox_io_backend.py:246\u001b[0m, in \u001b[0;36mload\u001b[0;34m(filepath, frame_offset, num_frames, normalize, channels_first, format)\u001b[0m\n\u001b[1;32m    244\u001b[0m \u001b[38;5;28;01mif\u001b[39;00m ret \u001b[38;5;129;01mis\u001b[39;00m \u001b[38;5;129;01mnot\u001b[39;00m \u001b[38;5;28;01mNone\u001b[39;00m:\n\u001b[1;32m    245\u001b[0m     \u001b[38;5;28;01mreturn\u001b[39;00m ret\n\u001b[0;32m--> 246\u001b[0m \u001b[38;5;28;01mreturn\u001b[39;00m \u001b[43m_fallback_load\u001b[49m\u001b[43m(\u001b[49m\u001b[43mfilepath\u001b[49m\u001b[43m,\u001b[49m\u001b[43m \u001b[49m\u001b[43mframe_offset\u001b[49m\u001b[43m,\u001b[49m\u001b[43m \u001b[49m\u001b[43mnum_frames\u001b[49m\u001b[43m,\u001b[49m\u001b[43m \u001b[49m\u001b[43mnormalize\u001b[49m\u001b[43m,\u001b[49m\u001b[43m \u001b[49m\u001b[43mchannels_first\u001b[49m\u001b[43m,\u001b[49m\u001b[43m \u001b[49m\u001b[38;5;28;43mformat\u001b[39;49m\u001b[43m)\u001b[49m\n",
      "File \u001b[0;32m~/anaconda3/envs/bsrnn/lib/python3.10/site-packages/torchaudio/io/_compat.py:103\u001b[0m, in \u001b[0;36mload_audio\u001b[0;34m(src, frame_offset, num_frames, convert, channels_first, format)\u001b[0m\n\u001b[1;32m     95\u001b[0m \u001b[38;5;28;01mdef\u001b[39;00m \u001b[38;5;21mload_audio\u001b[39m(\n\u001b[1;32m     96\u001b[0m     src: \u001b[38;5;28mstr\u001b[39m,\n\u001b[1;32m     97\u001b[0m     frame_offset: \u001b[38;5;28mint\u001b[39m \u001b[38;5;241m=\u001b[39m \u001b[38;5;241m0\u001b[39m,\n\u001b[0;32m   (...)\u001b[0m\n\u001b[1;32m    101\u001b[0m     \u001b[38;5;28mformat\u001b[39m: Optional[\u001b[38;5;28mstr\u001b[39m] \u001b[38;5;241m=\u001b[39m \u001b[38;5;28;01mNone\u001b[39;00m,\n\u001b[1;32m    102\u001b[0m ) \u001b[38;5;241m-\u001b[39m\u001b[38;5;241m>\u001b[39m Tuple[torch\u001b[38;5;241m.\u001b[39mTensor, \u001b[38;5;28mint\u001b[39m]:\n\u001b[0;32m--> 103\u001b[0m     s \u001b[38;5;241m=\u001b[39m \u001b[43mtorch\u001b[49m\u001b[38;5;241;43m.\u001b[39;49m\u001b[43mclasses\u001b[49m\u001b[38;5;241;43m.\u001b[39;49m\u001b[43mtorchaudio\u001b[49m\u001b[38;5;241;43m.\u001b[39;49m\u001b[43mffmpeg_StreamReader\u001b[49m\u001b[43m(\u001b[49m\u001b[43msrc\u001b[49m\u001b[43m,\u001b[49m\u001b[43m \u001b[49m\u001b[38;5;28;43mformat\u001b[39;49m\u001b[43m,\u001b[49m\u001b[43m \u001b[49m\u001b[38;5;28;43;01mNone\u001b[39;49;00m\u001b[43m)\u001b[49m\n\u001b[1;32m    104\u001b[0m     \u001b[38;5;28;01mreturn\u001b[39;00m _load_audio(s, frame_offset, num_frames, convert, channels_first)\n",
      "\u001b[0;31mRuntimeError\u001b[0m: Failed to open the input \"/home/crlandsc/external/I/MDX-23/A_Label_Noise/metadata/vocals.wav\" (No such file or directory)."
     ]
    }
   ],
   "source": [
    "# Mix tracks\n",
    "\n",
    "# Create error and normalization lists\n",
    "mixed_tracks = []\n",
    "error_tracks = []\n",
    "\n",
    "# Combine stems into mixed track\n",
    "print('Mixing audio...')\n",
    "for track in tqdm(track_folder):\n",
    "    \n",
    "    # Load audio files\n",
    "    compatible, vocals, bass, drums, other, sr = load_audio(path, track)\n",
    "    \n",
    "    # Confirm that all sample rates and lengths match\n",
    "    # If not compatible, don't mix\n",
    "    if compatible:\n",
    "        \n",
    "        # Combine all stems into \"mixture\" audio track\n",
    "        mixture = vocals + bass + drums + other\n",
    "        \n",
    "        # Normalize all tracks\n",
    "        # Avoid clipping on \"mixture.wav\"\n",
    "        # Normalize stems to same amplitude as mixture for better accuracy when separating\n",
    "        vocals, bass, drums, other, mixture = normalize_audio(vocals, bass, drums, other, mixture)\n",
    "        \n",
    "        # Check if directory exists. If not, create it.\n",
    "        save_track_dir = os.path.join(save_dir, track)\n",
    "        check_dir(save_track_dir)\n",
    "        \n",
    "        # Save mixed & normalized audio\n",
    "        torchaudio.save(os.path.join(save_track_dir, 'vocals.wav'), vocals, sr)\n",
    "        torchaudio.save(os.path.join(save_track_dir, 'bass.wav'), bass, sr)\n",
    "        torchaudio.save(os.path.join(save_track_dir, 'drums.wav'), drums, sr)\n",
    "        torchaudio.save(os.path.join(save_track_dir, 'other.wav'), other, sr)\n",
    "        torchaudio.save(os.path.join(save_track_dir, 'mixture.wav'), mixture, sr)\n",
    "        \n",
    "        # append normalized & mixed track names\n",
    "        mixed_tracks.append(track)\n",
    "        \n",
    "    else:\n",
    "        error_tracks.append(track)\n",
    "\n",
    "print(\"Finished mixing!\")\n",
    "print(\"================\")\n",
    "print(f\"Number of tracks normalized and mixed: {len(mixed_tracks)}\")\n",
    "print(f\"Number of tracks incompatible for mixing: {len(error_tracks)}\")"
   ]
  }
 ],
 "metadata": {
  "kernelspec": {
   "display_name": "BSRNN (Python 3.10)",
   "language": "python",
   "name": "bsrnn"
  },
  "language_info": {
   "codemirror_mode": {
    "name": "ipython",
    "version": 3
   },
   "file_extension": ".py",
   "mimetype": "text/x-python",
   "name": "python",
   "nbconvert_exporter": "python",
   "pygments_lexer": "ipython3",
   "version": "3.10.10"
  }
 },
 "nbformat": 4,
 "nbformat_minor": 5
}
